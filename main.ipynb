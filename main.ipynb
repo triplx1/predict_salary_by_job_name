{
  "cells": [
    {
      "cell_type": "markdown",
      "metadata": {
        "toc": true,
        "id": "2c2y3dvzdp2Y"
      },
      "source": [
        "<h1>Table of Contents<span class=\"tocSkip\"></span></h1>\n",
        "<div class=\"toc\"><ul class=\"toc-item\"></ul></div>"
      ]
    },
    {
      "cell_type": "code",
      "execution_count": null,
      "metadata": {
        "id": "6FWeD_Wdq6dJ"
      },
      "outputs": [],
      "source": [
        "import pandas as pd\n",
        "import numpy as np\n",
        "import matplotlib.pyplot as plt\n",
        "\n",
        "from sklearn.linear_model import LinearRegression\n",
        "from sklearn.model_selection import train_test_split\n",
        "from sklearn.metrics import r2_score\n",
        "from sklearn.feature_extraction.text import TfidfVectorizer\n",
        "\n",
        "import warnings\n",
        "warnings.filterwarnings('ignore')\n",
        "pd.set_option('display.max_columns', None)\n",
        "pd.set_option('display.max_colwidth', 100)"
      ]
    },
    {
      "cell_type": "code",
      "execution_count": null,
      "metadata": {
        "id": "TTzFXT-B0HRR"
      },
      "outputs": [],
      "source": [
        "# зафиксируем random state для воспроизводимости результатов\n",
        "RANDOM_STATE = 42"
      ]
    },
    {
      "cell_type": "markdown",
      "metadata": {
        "id": "t04KowQPQxwT"
      },
      "source": [
        "Будем предсказывать зарплату по описанию вакансии - это задача регрессии!"
      ]
    },
    {
      "cell_type": "code",
      "execution_count": null,
      "metadata": {
        "id": "jt_-J8ONq6dV"
      },
      "outputs": [],
      "source": [
        "df = pd.read_csv('salary_data.csv', index_col = [0])"
      ]
    },
    {
      "cell_type": "code",
      "execution_count": null,
      "metadata": {
        "colab": {
          "base_uri": "https://localhost:8080/",
          "height": 730
        },
        "id": "bTx7h0vUq6df",
        "outputId": "cf3dccee-6c7a-417b-9df0-f1c586b5f322"
      },
      "outputs": [
        {
          "output_type": "execute_result",
          "data": {
            "text/plain": [
              "                   Job Title              Salary Estimate  \\\n",
              "0             Data Scientist   $53K-$91K (Glassdoor est.)   \n",
              "1  Healthcare Data Scientist  $63K-$112K (Glassdoor est.)   \n",
              "2             Data Scientist   $80K-$90K (Glassdoor est.)   \n",
              "3             Data Scientist   $56K-$97K (Glassdoor est.)   \n",
              "4             Data Scientist  $86K-$143K (Glassdoor est.)   \n",
              "\n",
              "                                                                                       Job Description  \\\n",
              "0  Data Scientist\\nLocation: Albuquerque, NM\\nEducation Required: Bachelor’s degree required, prefe...   \n",
              "1  What You Will Do:\\n\\nI. General Summary\\n\\nThe Healthcare Data Scientist position will join our ...   \n",
              "2  KnowBe4, Inc. is a high growth information security company. We are the world's largest provider...   \n",
              "3  *Organization and Job ID**\\nJob ID: 310709\\n\\nDirectorate: Earth & Biological Sciences\\n\\nDivisi...   \n",
              "4  Data Scientist\\nAffinity Solutions / Marketing Cloud seeks smart, curious, technically savvy can...   \n",
              "\n",
              "   Rating                                Company Name         Location  \\\n",
              "0     3.8                      Tecolote Research\\n3.8  Albuquerque, NM   \n",
              "1     3.4  University of Maryland Medical System\\n3.4    Linthicum, MD   \n",
              "2     4.8                                KnowBe4\\n4.8   Clearwater, FL   \n",
              "3     3.8                                   PNNL\\n3.8     Richland, WA   \n",
              "4     2.9                     Affinity Solutions\\n2.9     New York, NY   \n",
              "\n",
              "     Headquarters                    Size  Founded   Type of ownership  \\\n",
              "0      Goleta, CA   501 to 1000 employees     1973   Company - Private   \n",
              "1   Baltimore, MD        10000+ employees     1984  Other Organization   \n",
              "2  Clearwater, FL   501 to 1000 employees     2010   Company - Private   \n",
              "3    Richland, WA  1001 to 5000 employees     1965          Government   \n",
              "4    New York, NY     51 to 200 employees     1998   Company - Private   \n",
              "\n",
              "                           Industry                        Sector  \\\n",
              "0               Aerospace & Defense           Aerospace & Defense   \n",
              "1  Health Care Services & Hospitals                   Health Care   \n",
              "2                 Security Services             Business Services   \n",
              "3                            Energy  Oil, Gas, Energy & Utilities   \n",
              "4           Advertising & Marketing             Business Services   \n",
              "\n",
              "                            Revenue  \\\n",
              "0         $50 to $100 million (USD)   \n",
              "1            $2 to $5 billion (USD)   \n",
              "2        $100 to $500 million (USD)   \n",
              "3  $500 million to $1 billion (USD)   \n",
              "4          Unknown / Non-Applicable   \n",
              "\n",
              "                                                                                    Competitors  \\\n",
              "0                                                                                            -1   \n",
              "1                                                                                            -1   \n",
              "2                                                                                            -1   \n",
              "3  Oak Ridge National Laboratory, National Renewable Energy Lab, Los Alamos National Laboratory   \n",
              "4                                                          Commerce Signals, Cardlytics, Yodlee   \n",
              "\n",
              "   hourly  employer_provided  min_salary  max_salary  avg_salary  \\\n",
              "0       0                  0          53          91        72.0   \n",
              "1       0                  0          63         112        87.5   \n",
              "2       0                  0          80          90        85.0   \n",
              "3       0                  0          56          97        76.5   \n",
              "4       0                  0          86         143       114.5   \n",
              "\n",
              "                               company_txt job_state  same_state  age  \\\n",
              "0                      Tecolote Research\\n        NM           0   47   \n",
              "1  University of Maryland Medical System\\n        MD           0   36   \n",
              "2                                KnowBe4\\n        FL           1   10   \n",
              "3                                   PNNL\\n        WA           1   55   \n",
              "4                     Affinity Solutions\\n        NY           1   22   \n",
              "\n",
              "   python_yn  R_yn  spark  aws  excel  \n",
              "0          1     0      0    0      1  \n",
              "1          1     0      0    0      0  \n",
              "2          1     0      1    0      1  \n",
              "3          1     0      0    0      0  \n",
              "4          1     0      0    0      1  "
            ],
            "text/html": [
              "\n",
              "  <div id=\"df-8e939241-b1c4-4c00-9d8b-e8a7469c793a\" class=\"colab-df-container\">\n",
              "    <div>\n",
              "<style scoped>\n",
              "    .dataframe tbody tr th:only-of-type {\n",
              "        vertical-align: middle;\n",
              "    }\n",
              "\n",
              "    .dataframe tbody tr th {\n",
              "        vertical-align: top;\n",
              "    }\n",
              "\n",
              "    .dataframe thead th {\n",
              "        text-align: right;\n",
              "    }\n",
              "</style>\n",
              "<table border=\"1\" class=\"dataframe\">\n",
              "  <thead>\n",
              "    <tr style=\"text-align: right;\">\n",
              "      <th></th>\n",
              "      <th>Job Title</th>\n",
              "      <th>Salary Estimate</th>\n",
              "      <th>Job Description</th>\n",
              "      <th>Rating</th>\n",
              "      <th>Company Name</th>\n",
              "      <th>Location</th>\n",
              "      <th>Headquarters</th>\n",
              "      <th>Size</th>\n",
              "      <th>Founded</th>\n",
              "      <th>Type of ownership</th>\n",
              "      <th>Industry</th>\n",
              "      <th>Sector</th>\n",
              "      <th>Revenue</th>\n",
              "      <th>Competitors</th>\n",
              "      <th>hourly</th>\n",
              "      <th>employer_provided</th>\n",
              "      <th>min_salary</th>\n",
              "      <th>max_salary</th>\n",
              "      <th>avg_salary</th>\n",
              "      <th>company_txt</th>\n",
              "      <th>job_state</th>\n",
              "      <th>same_state</th>\n",
              "      <th>age</th>\n",
              "      <th>python_yn</th>\n",
              "      <th>R_yn</th>\n",
              "      <th>spark</th>\n",
              "      <th>aws</th>\n",
              "      <th>excel</th>\n",
              "    </tr>\n",
              "  </thead>\n",
              "  <tbody>\n",
              "    <tr>\n",
              "      <th>0</th>\n",
              "      <td>Data Scientist</td>\n",
              "      <td>$53K-$91K (Glassdoor est.)</td>\n",
              "      <td>Data Scientist\\nLocation: Albuquerque, NM\\nEducation Required: Bachelor’s degree required, prefe...</td>\n",
              "      <td>3.8</td>\n",
              "      <td>Tecolote Research\\n3.8</td>\n",
              "      <td>Albuquerque, NM</td>\n",
              "      <td>Goleta, CA</td>\n",
              "      <td>501 to 1000 employees</td>\n",
              "      <td>1973</td>\n",
              "      <td>Company - Private</td>\n",
              "      <td>Aerospace &amp; Defense</td>\n",
              "      <td>Aerospace &amp; Defense</td>\n",
              "      <td>$50 to $100 million (USD)</td>\n",
              "      <td>-1</td>\n",
              "      <td>0</td>\n",
              "      <td>0</td>\n",
              "      <td>53</td>\n",
              "      <td>91</td>\n",
              "      <td>72.0</td>\n",
              "      <td>Tecolote Research\\n</td>\n",
              "      <td>NM</td>\n",
              "      <td>0</td>\n",
              "      <td>47</td>\n",
              "      <td>1</td>\n",
              "      <td>0</td>\n",
              "      <td>0</td>\n",
              "      <td>0</td>\n",
              "      <td>1</td>\n",
              "    </tr>\n",
              "    <tr>\n",
              "      <th>1</th>\n",
              "      <td>Healthcare Data Scientist</td>\n",
              "      <td>$63K-$112K (Glassdoor est.)</td>\n",
              "      <td>What You Will Do:\\n\\nI. General Summary\\n\\nThe Healthcare Data Scientist position will join our ...</td>\n",
              "      <td>3.4</td>\n",
              "      <td>University of Maryland Medical System\\n3.4</td>\n",
              "      <td>Linthicum, MD</td>\n",
              "      <td>Baltimore, MD</td>\n",
              "      <td>10000+ employees</td>\n",
              "      <td>1984</td>\n",
              "      <td>Other Organization</td>\n",
              "      <td>Health Care Services &amp; Hospitals</td>\n",
              "      <td>Health Care</td>\n",
              "      <td>$2 to $5 billion (USD)</td>\n",
              "      <td>-1</td>\n",
              "      <td>0</td>\n",
              "      <td>0</td>\n",
              "      <td>63</td>\n",
              "      <td>112</td>\n",
              "      <td>87.5</td>\n",
              "      <td>University of Maryland Medical System\\n</td>\n",
              "      <td>MD</td>\n",
              "      <td>0</td>\n",
              "      <td>36</td>\n",
              "      <td>1</td>\n",
              "      <td>0</td>\n",
              "      <td>0</td>\n",
              "      <td>0</td>\n",
              "      <td>0</td>\n",
              "    </tr>\n",
              "    <tr>\n",
              "      <th>2</th>\n",
              "      <td>Data Scientist</td>\n",
              "      <td>$80K-$90K (Glassdoor est.)</td>\n",
              "      <td>KnowBe4, Inc. is a high growth information security company. We are the world's largest provider...</td>\n",
              "      <td>4.8</td>\n",
              "      <td>KnowBe4\\n4.8</td>\n",
              "      <td>Clearwater, FL</td>\n",
              "      <td>Clearwater, FL</td>\n",
              "      <td>501 to 1000 employees</td>\n",
              "      <td>2010</td>\n",
              "      <td>Company - Private</td>\n",
              "      <td>Security Services</td>\n",
              "      <td>Business Services</td>\n",
              "      <td>$100 to $500 million (USD)</td>\n",
              "      <td>-1</td>\n",
              "      <td>0</td>\n",
              "      <td>0</td>\n",
              "      <td>80</td>\n",
              "      <td>90</td>\n",
              "      <td>85.0</td>\n",
              "      <td>KnowBe4\\n</td>\n",
              "      <td>FL</td>\n",
              "      <td>1</td>\n",
              "      <td>10</td>\n",
              "      <td>1</td>\n",
              "      <td>0</td>\n",
              "      <td>1</td>\n",
              "      <td>0</td>\n",
              "      <td>1</td>\n",
              "    </tr>\n",
              "    <tr>\n",
              "      <th>3</th>\n",
              "      <td>Data Scientist</td>\n",
              "      <td>$56K-$97K (Glassdoor est.)</td>\n",
              "      <td>*Organization and Job ID**\\nJob ID: 310709\\n\\nDirectorate: Earth &amp; Biological Sciences\\n\\nDivisi...</td>\n",
              "      <td>3.8</td>\n",
              "      <td>PNNL\\n3.8</td>\n",
              "      <td>Richland, WA</td>\n",
              "      <td>Richland, WA</td>\n",
              "      <td>1001 to 5000 employees</td>\n",
              "      <td>1965</td>\n",
              "      <td>Government</td>\n",
              "      <td>Energy</td>\n",
              "      <td>Oil, Gas, Energy &amp; Utilities</td>\n",
              "      <td>$500 million to $1 billion (USD)</td>\n",
              "      <td>Oak Ridge National Laboratory, National Renewable Energy Lab, Los Alamos National Laboratory</td>\n",
              "      <td>0</td>\n",
              "      <td>0</td>\n",
              "      <td>56</td>\n",
              "      <td>97</td>\n",
              "      <td>76.5</td>\n",
              "      <td>PNNL\\n</td>\n",
              "      <td>WA</td>\n",
              "      <td>1</td>\n",
              "      <td>55</td>\n",
              "      <td>1</td>\n",
              "      <td>0</td>\n",
              "      <td>0</td>\n",
              "      <td>0</td>\n",
              "      <td>0</td>\n",
              "    </tr>\n",
              "    <tr>\n",
              "      <th>4</th>\n",
              "      <td>Data Scientist</td>\n",
              "      <td>$86K-$143K (Glassdoor est.)</td>\n",
              "      <td>Data Scientist\\nAffinity Solutions / Marketing Cloud seeks smart, curious, technically savvy can...</td>\n",
              "      <td>2.9</td>\n",
              "      <td>Affinity Solutions\\n2.9</td>\n",
              "      <td>New York, NY</td>\n",
              "      <td>New York, NY</td>\n",
              "      <td>51 to 200 employees</td>\n",
              "      <td>1998</td>\n",
              "      <td>Company - Private</td>\n",
              "      <td>Advertising &amp; Marketing</td>\n",
              "      <td>Business Services</td>\n",
              "      <td>Unknown / Non-Applicable</td>\n",
              "      <td>Commerce Signals, Cardlytics, Yodlee</td>\n",
              "      <td>0</td>\n",
              "      <td>0</td>\n",
              "      <td>86</td>\n",
              "      <td>143</td>\n",
              "      <td>114.5</td>\n",
              "      <td>Affinity Solutions\\n</td>\n",
              "      <td>NY</td>\n",
              "      <td>1</td>\n",
              "      <td>22</td>\n",
              "      <td>1</td>\n",
              "      <td>0</td>\n",
              "      <td>0</td>\n",
              "      <td>0</td>\n",
              "      <td>1</td>\n",
              "    </tr>\n",
              "  </tbody>\n",
              "</table>\n",
              "</div>\n",
              "    <div class=\"colab-df-buttons\">\n",
              "\n",
              "  <div class=\"colab-df-container\">\n",
              "    <button class=\"colab-df-convert\" onclick=\"convertToInteractive('df-8e939241-b1c4-4c00-9d8b-e8a7469c793a')\"\n",
              "            title=\"Convert this dataframe to an interactive table.\"\n",
              "            style=\"display:none;\">\n",
              "\n",
              "  <svg xmlns=\"http://www.w3.org/2000/svg\" height=\"24px\" viewBox=\"0 -960 960 960\">\n",
              "    <path d=\"M120-120v-720h720v720H120Zm60-500h600v-160H180v160Zm220 220h160v-160H400v160Zm0 220h160v-160H400v160ZM180-400h160v-160H180v160Zm440 0h160v-160H620v160ZM180-180h160v-160H180v160Zm440 0h160v-160H620v160Z\"/>\n",
              "  </svg>\n",
              "    </button>\n",
              "\n",
              "  <style>\n",
              "    .colab-df-container {\n",
              "      display:flex;\n",
              "      gap: 12px;\n",
              "    }\n",
              "\n",
              "    .colab-df-convert {\n",
              "      background-color: #E8F0FE;\n",
              "      border: none;\n",
              "      border-radius: 50%;\n",
              "      cursor: pointer;\n",
              "      display: none;\n",
              "      fill: #1967D2;\n",
              "      height: 32px;\n",
              "      padding: 0 0 0 0;\n",
              "      width: 32px;\n",
              "    }\n",
              "\n",
              "    .colab-df-convert:hover {\n",
              "      background-color: #E2EBFA;\n",
              "      box-shadow: 0px 1px 2px rgba(60, 64, 67, 0.3), 0px 1px 3px 1px rgba(60, 64, 67, 0.15);\n",
              "      fill: #174EA6;\n",
              "    }\n",
              "\n",
              "    .colab-df-buttons div {\n",
              "      margin-bottom: 4px;\n",
              "    }\n",
              "\n",
              "    [theme=dark] .colab-df-convert {\n",
              "      background-color: #3B4455;\n",
              "      fill: #D2E3FC;\n",
              "    }\n",
              "\n",
              "    [theme=dark] .colab-df-convert:hover {\n",
              "      background-color: #434B5C;\n",
              "      box-shadow: 0px 1px 3px 1px rgba(0, 0, 0, 0.15);\n",
              "      filter: drop-shadow(0px 1px 2px rgba(0, 0, 0, 0.3));\n",
              "      fill: #FFFFFF;\n",
              "    }\n",
              "  </style>\n",
              "\n",
              "    <script>\n",
              "      const buttonEl =\n",
              "        document.querySelector('#df-8e939241-b1c4-4c00-9d8b-e8a7469c793a button.colab-df-convert');\n",
              "      buttonEl.style.display =\n",
              "        google.colab.kernel.accessAllowed ? 'block' : 'none';\n",
              "\n",
              "      async function convertToInteractive(key) {\n",
              "        const element = document.querySelector('#df-8e939241-b1c4-4c00-9d8b-e8a7469c793a');\n",
              "        const dataTable =\n",
              "          await google.colab.kernel.invokeFunction('convertToInteractive',\n",
              "                                                    [key], {});\n",
              "        if (!dataTable) return;\n",
              "\n",
              "        const docLinkHtml = 'Like what you see? Visit the ' +\n",
              "          '<a target=\"_blank\" href=https://colab.research.google.com/notebooks/data_table.ipynb>data table notebook</a>'\n",
              "          + ' to learn more about interactive tables.';\n",
              "        element.innerHTML = '';\n",
              "        dataTable['output_type'] = 'display_data';\n",
              "        await google.colab.output.renderOutput(dataTable, element);\n",
              "        const docLink = document.createElement('div');\n",
              "        docLink.innerHTML = docLinkHtml;\n",
              "        element.appendChild(docLink);\n",
              "      }\n",
              "    </script>\n",
              "  </div>\n",
              "\n",
              "\n",
              "<div id=\"df-bf19f42d-af50-4352-978b-a8d7c6eea35d\">\n",
              "  <button class=\"colab-df-quickchart\" onclick=\"quickchart('df-bf19f42d-af50-4352-978b-a8d7c6eea35d')\"\n",
              "            title=\"Suggest charts\"\n",
              "            style=\"display:none;\">\n",
              "\n",
              "<svg xmlns=\"http://www.w3.org/2000/svg\" height=\"24px\"viewBox=\"0 0 24 24\"\n",
              "     width=\"24px\">\n",
              "    <g>\n",
              "        <path d=\"M19 3H5c-1.1 0-2 .9-2 2v14c0 1.1.9 2 2 2h14c1.1 0 2-.9 2-2V5c0-1.1-.9-2-2-2zM9 17H7v-7h2v7zm4 0h-2V7h2v10zm4 0h-2v-4h2v4z\"/>\n",
              "    </g>\n",
              "</svg>\n",
              "  </button>\n",
              "\n",
              "<style>\n",
              "  .colab-df-quickchart {\n",
              "      --bg-color: #E8F0FE;\n",
              "      --fill-color: #1967D2;\n",
              "      --hover-bg-color: #E2EBFA;\n",
              "      --hover-fill-color: #174EA6;\n",
              "      --disabled-fill-color: #AAA;\n",
              "      --disabled-bg-color: #DDD;\n",
              "  }\n",
              "\n",
              "  [theme=dark] .colab-df-quickchart {\n",
              "      --bg-color: #3B4455;\n",
              "      --fill-color: #D2E3FC;\n",
              "      --hover-bg-color: #434B5C;\n",
              "      --hover-fill-color: #FFFFFF;\n",
              "      --disabled-bg-color: #3B4455;\n",
              "      --disabled-fill-color: #666;\n",
              "  }\n",
              "\n",
              "  .colab-df-quickchart {\n",
              "    background-color: var(--bg-color);\n",
              "    border: none;\n",
              "    border-radius: 50%;\n",
              "    cursor: pointer;\n",
              "    display: none;\n",
              "    fill: var(--fill-color);\n",
              "    height: 32px;\n",
              "    padding: 0;\n",
              "    width: 32px;\n",
              "  }\n",
              "\n",
              "  .colab-df-quickchart:hover {\n",
              "    background-color: var(--hover-bg-color);\n",
              "    box-shadow: 0 1px 2px rgba(60, 64, 67, 0.3), 0 1px 3px 1px rgba(60, 64, 67, 0.15);\n",
              "    fill: var(--button-hover-fill-color);\n",
              "  }\n",
              "\n",
              "  .colab-df-quickchart-complete:disabled,\n",
              "  .colab-df-quickchart-complete:disabled:hover {\n",
              "    background-color: var(--disabled-bg-color);\n",
              "    fill: var(--disabled-fill-color);\n",
              "    box-shadow: none;\n",
              "  }\n",
              "\n",
              "  .colab-df-spinner {\n",
              "    border: 2px solid var(--fill-color);\n",
              "    border-color: transparent;\n",
              "    border-bottom-color: var(--fill-color);\n",
              "    animation:\n",
              "      spin 1s steps(1) infinite;\n",
              "  }\n",
              "\n",
              "  @keyframes spin {\n",
              "    0% {\n",
              "      border-color: transparent;\n",
              "      border-bottom-color: var(--fill-color);\n",
              "      border-left-color: var(--fill-color);\n",
              "    }\n",
              "    20% {\n",
              "      border-color: transparent;\n",
              "      border-left-color: var(--fill-color);\n",
              "      border-top-color: var(--fill-color);\n",
              "    }\n",
              "    30% {\n",
              "      border-color: transparent;\n",
              "      border-left-color: var(--fill-color);\n",
              "      border-top-color: var(--fill-color);\n",
              "      border-right-color: var(--fill-color);\n",
              "    }\n",
              "    40% {\n",
              "      border-color: transparent;\n",
              "      border-right-color: var(--fill-color);\n",
              "      border-top-color: var(--fill-color);\n",
              "    }\n",
              "    60% {\n",
              "      border-color: transparent;\n",
              "      border-right-color: var(--fill-color);\n",
              "    }\n",
              "    80% {\n",
              "      border-color: transparent;\n",
              "      border-right-color: var(--fill-color);\n",
              "      border-bottom-color: var(--fill-color);\n",
              "    }\n",
              "    90% {\n",
              "      border-color: transparent;\n",
              "      border-bottom-color: var(--fill-color);\n",
              "    }\n",
              "  }\n",
              "</style>\n",
              "\n",
              "  <script>\n",
              "    async function quickchart(key) {\n",
              "      const quickchartButtonEl =\n",
              "        document.querySelector('#' + key + ' button');\n",
              "      quickchartButtonEl.disabled = true;  // To prevent multiple clicks.\n",
              "      quickchartButtonEl.classList.add('colab-df-spinner');\n",
              "      try {\n",
              "        const charts = await google.colab.kernel.invokeFunction(\n",
              "            'suggestCharts', [key], {});\n",
              "      } catch (error) {\n",
              "        console.error('Error during call to suggestCharts:', error);\n",
              "      }\n",
              "      quickchartButtonEl.classList.remove('colab-df-spinner');\n",
              "      quickchartButtonEl.classList.add('colab-df-quickchart-complete');\n",
              "    }\n",
              "    (() => {\n",
              "      let quickchartButtonEl =\n",
              "        document.querySelector('#df-bf19f42d-af50-4352-978b-a8d7c6eea35d button');\n",
              "      quickchartButtonEl.style.display =\n",
              "        google.colab.kernel.accessAllowed ? 'block' : 'none';\n",
              "    })();\n",
              "  </script>\n",
              "</div>\n",
              "    </div>\n",
              "  </div>\n"
            ],
            "application/vnd.google.colaboratory.intrinsic+json": {
              "type": "dataframe",
              "variable_name": "df"
            }
          },
          "metadata": {},
          "execution_count": 7
        }
      ],
      "source": [
        "df.head()"
      ]
    },
    {
      "cell_type": "markdown",
      "metadata": {
        "id": "t7bIGPM-Q3HE"
      },
      "source": [
        "Посмотрим на распределение целевой переменной. Построим гистограмму распределения вероятностей признака `avg_salary`"
      ]
    },
    {
      "cell_type": "code",
      "execution_count": null,
      "metadata": {
        "colab": {
          "base_uri": "https://localhost:8080/",
          "height": 430
        },
        "id": "GL2x03rPq6dp",
        "outputId": "e60f34a8-88c5-4879-a4cf-144ad31131c3"
      },
      "outputs": [
        {
          "output_type": "display_data",
          "data": {
            "text/plain": [
              "<Figure size 640x480 with 1 Axes>"
            ],
            "image/png": "[encoded data removed]"
          },
          "metadata": {}
        }
      ],
      "source": [
        "plt.hist(df['avg_salary'], bins=70)\n",
        "plt.grid()\n",
        "plt.show()"
      ]
    },
    {
      "cell_type": "markdown",
      "metadata": {
        "id": "Hjy98RUZQ5-n"
      },
      "source": [
        "Распределение похоже на нормальное. Лучший вариант для линейной регрессии.\n",
        "\n",
        "Найдем средние/медианные езарплаты в зависимости от профессии. Используем метод `groupby()`"
      ]
    },
    {
      "cell_type": "code",
      "execution_count": null,
      "metadata": {
        "id": "TXcREVqudp2b",
        "outputId": "dcf8d941-90de-4623-8c0e-91af5cb7608c",
        "colab": {
          "base_uri": "https://localhost:8080/",
          "height": 490
        }
      },
      "outputs": [
        {
          "output_type": "execute_result",
          "data": {
            "text/plain": [
              "Job Title\n",
              "Ag Data Scientist                                      80.5\n",
              "Analytics - Business Assurance Data Analyst            43.0\n",
              "Analytics Consultant                                   66.5\n",
              "Analytics Manager                                      87.5\n",
              "Analytics Manager - Data Mart                          64.0\n",
              "                                                      ...  \n",
              "System and Data Analyst                                59.0\n",
              "Systems Engineer II - Data Analyst                     62.5\n",
              "Technology-Minded, Data Professional Opportunities     70.5\n",
              "VP, Data Science                                      124.5\n",
              "Web Data Analyst                                      106.0\n",
              "Name: avg_salary, Length: 264, dtype: float64"
            ],
            "text/html": [
              "<div>\n",
              "<style scoped>\n",
              "    .dataframe tbody tr th:only-of-type {\n",
              "        vertical-align: middle;\n",
              "    }\n",
              "\n",
              "    .dataframe tbody tr th {\n",
              "        vertical-align: top;\n",
              "    }\n",
              "\n",
              "    .dataframe thead th {\n",
              "        text-align: right;\n",
              "    }\n",
              "</style>\n",
              "<table border=\"1\" class=\"dataframe\">\n",
              "  <thead>\n",
              "    <tr style=\"text-align: right;\">\n",
              "      <th></th>\n",
              "      <th>avg_salary</th>\n",
              "    </tr>\n",
              "    <tr>\n",
              "      <th>Job Title</th>\n",
              "      <th></th>\n",
              "    </tr>\n",
              "  </thead>\n",
              "  <tbody>\n",
              "    <tr>\n",
              "      <th>Ag Data Scientist</th>\n",
              "      <td>80.5</td>\n",
              "    </tr>\n",
              "    <tr>\n",
              "      <th>Analytics - Business Assurance Data Analyst</th>\n",
              "      <td>43.0</td>\n",
              "    </tr>\n",
              "    <tr>\n",
              "      <th>Analytics Consultant</th>\n",
              "      <td>66.5</td>\n",
              "    </tr>\n",
              "    <tr>\n",
              "      <th>Analytics Manager</th>\n",
              "      <td>87.5</td>\n",
              "    </tr>\n",
              "    <tr>\n",
              "      <th>Analytics Manager - Data Mart</th>\n",
              "      <td>64.0</td>\n",
              "    </tr>\n",
              "    <tr>\n",
              "      <th>...</th>\n",
              "      <td>...</td>\n",
              "    </tr>\n",
              "    <tr>\n",
              "      <th>System and Data Analyst</th>\n",
              "      <td>59.0</td>\n",
              "    </tr>\n",
              "    <tr>\n",
              "      <th>Systems Engineer II - Data Analyst</th>\n",
              "      <td>62.5</td>\n",
              "    </tr>\n",
              "    <tr>\n",
              "      <th>Technology-Minded, Data Professional Opportunities</th>\n",
              "      <td>70.5</td>\n",
              "    </tr>\n",
              "    <tr>\n",
              "      <th>VP, Data Science</th>\n",
              "      <td>124.5</td>\n",
              "    </tr>\n",
              "    <tr>\n",
              "      <th>Web Data Analyst</th>\n",
              "      <td>106.0</td>\n",
              "    </tr>\n",
              "  </tbody>\n",
              "</table>\n",
              "<p>264 rows × 1 columns</p>\n",
              "</div><br><label><b>dtype:</b> float64</label>"
            ]
          },
          "metadata": {},
          "execution_count": 9
        }
      ],
      "source": [
        "df.groupby('Job Title')['avg_salary'].median()"
      ]
    },
    {
      "cell_type": "code",
      "execution_count": null,
      "metadata": {
        "id": "UU61wWNcdp2b",
        "outputId": "63e59b46-f0b3-4cbe-ef6f-c9f1e349e540",
        "colab": {
          "base_uri": "https://localhost:8080/"
        }
      },
      "outputs": [
        {
          "output_type": "execute_result",
          "data": {
            "text/plain": [
              "264"
            ]
          },
          "metadata": {},
          "execution_count": 10
        }
      ],
      "source": [
        "df['Job Title'].nunique()"
      ]
    },
    {
      "cell_type": "markdown",
      "metadata": {
        "id": "3bnHV8oNR3KG"
      },
      "source": [
        "Разобъем данные на тренировочные и тестовые. Для обучения будем использовать в качестве признаков только описание вакансии `Job Description`"
      ]
    },
    {
      "cell_type": "code",
      "execution_count": null,
      "metadata": {
        "id": "cHXHXQXLdp2b"
      },
      "outputs": [],
      "source": [
        "X = df['Job Description']\n",
        "y = df['avg_salary']"
      ]
    },
    {
      "cell_type": "code",
      "execution_count": null,
      "metadata": {
        "id": "KKl89N5bCjJN",
        "outputId": "c5e82a12-023b-4a5f-f55c-08f85fc9fc97",
        "colab": {
          "base_uri": "https://localhost:8080/"
        }
      },
      "outputs": [
        {
          "output_type": "stream",
          "name": "stdout",
          "text": [
            "CPU times: user 3.88 ms, sys: 0 ns, total: 3.88 ms\n",
            "Wall time: 4.75 ms\n"
          ]
        }
      ],
      "source": [
        "%%time\n",
        "X_train, X_test, y_train, y_test = train_test_split(X, y, test_size=0.2, random_state=RANDOM_STATE)"
      ]
    },
    {
      "cell_type": "markdown",
      "metadata": {
        "id": "LYwSQxnHQ9iT"
      },
      "source": [
        "Закодируйте столбец `Job Description` при помощи **tf-idf**:\n",
        "\n",
        "* обучите (метод `fit`) на тренировочных данных `X_train`, а затем примените (`transform`) и к трейну, и к тесту в отдельности.\n",
        "\n",
        "*  попробуйте подобрать гиперпараметры `min_df`, `max_df`, `ngram_range` у метода для достижения наилучшего качества модели"
      ]
    },
    {
      "cell_type": "code",
      "execution_count": null,
      "metadata": {
        "id": "9JWQoeQ4q6d9",
        "colab": {
          "base_uri": "https://localhost:8080/"
        },
        "outputId": "47bf5ccc-00e4-467c-aa51-3201141d4fd2"
      },
      "outputs": [
        {
          "output_type": "stream",
          "name": "stdout",
          "text": [
            "(593, 7210) (149, 7210)\n"
          ]
        }
      ],
      "source": [
        "\n",
        "# Подбор гиперпараметров TF-IDF\n",
        "tfidf = TfidfVectorizer(min_df=10, max_df=0.8, ngram_range=(1, 2))\n",
        "\n",
        "# Обучаем на тренировочных данных и трансформируем\n",
        "X_train_tfidf = tfidf.fit_transform(X_train)\n",
        "\n",
        "# Применяем трансформирование к тестовым данным\n",
        "X_test_tfidf = tfidf.transform(X_test)\n",
        "\n",
        "# Проверка формы преобразованных данных\n",
        "print(X_train_tfidf.shape, X_test_tfidf.shape)"
      ]
    },
    {
      "cell_type": "markdown",
      "metadata": {
        "id": "s8uSZxuRRa60"
      },
      "source": [
        "**Вопрос:** если использовать `min_df = 5`, `max_df=1.0`, `ngram_range=(1,1)`, то сколько столбцов получится в матрице после применения кодировки?"
      ]
    },
    {
      "cell_type": "code",
      "source": [
        "# Применим указанные параметры TF-IDF к тренировочным данным и посмотрим, сколько признаков будет в результате\n",
        "tfidf_custom = TfidfVectorizer(min_df=5, max_df=1.0, ngram_range=(1, 1))\n",
        "\n",
        "# Обучаем на тренировочных данных и трансформируем\n",
        "X_train_tfidf_custom = tfidf_custom.fit_transform(X_train)\n",
        "\n",
        "# Выведем количество признаков после TF-IDF кодирования\n",
        "X_train_tfidf_custom.shape[1]\n"
      ],
      "metadata": {
        "colab": {
          "base_uri": "https://localhost:8080/"
        },
        "id": "TAs1dpIzhgVk",
        "outputId": "efb40b9e-b8f6-407b-dc7c-10d0606872b0"
      },
      "execution_count": null,
      "outputs": [
        {
          "output_type": "execute_result",
          "data": {
            "text/plain": [
              "4175"
            ]
          },
          "metadata": {},
          "execution_count": 14
        }
      ]
    },
    {
      "cell_type": "markdown",
      "metadata": {
        "id": "4_h1QKhjSBuC"
      },
      "source": [
        "Обучите линейную регрессию `Ridge()` на тренировочных данных и сделайте предсказания на тренировочных и тестовых данных.\n",
        "\n",
        "**model = Ridge(alpha=1.1)**"
      ]
    },
    {
      "cell_type": "code",
      "execution_count": null,
      "metadata": {
        "id": "dGflmUM4SHf2",
        "colab": {
          "base_uri": "https://localhost:8080/"
        },
        "outputId": "62b19f3c-4220-4b39-9638-9ec2bc301ecc"
      },
      "outputs": [
        {
          "output_type": "execute_result",
          "data": {
            "text/plain": [
              "(0.7748676243434285, 0.6194680529163464)"
            ]
          },
          "metadata": {},
          "execution_count": 15
        }
      ],
      "source": [
        "# ваш код здесь\n",
        "from sklearn.linear_model import Ridge\n",
        "\n",
        "# Применим указанные параметры TF-IDF к тренировочным данным\n",
        "tfidf_custom = TfidfVectorizer(min_df=5, max_df=1.0, ngram_range=(1, 1))\n",
        "\n",
        "# Обучаем на тренировочных данных и трансформируем\n",
        "X_train_tfidf_custom = tfidf_custom.fit_transform(X_train)\n",
        "\n",
        "# Применяем трансформирование к тестовым данным\n",
        "X_test_tfidf_custom = tfidf_custom.transform(X_test)\n",
        "\n",
        "# Инициализация модели Ridge\n",
        "model = Ridge(alpha=1.1)\n",
        "\n",
        "# Обучаем модель на закодированных данных\n",
        "model.fit(X_train_tfidf_custom, y_train)\n",
        "\n",
        "# Делаем предсказания на тренировочных данных\n",
        "y_train_pred = model.predict(X_train_tfidf_custom)\n",
        "\n",
        "# Делаем предсказания на тестовых данных\n",
        "y_test_pred = model.predict(X_test_tfidf_custom)\n",
        "\n",
        "# Оценим качество модели на тренировочных и тестовых данных\n",
        "r2_train = r2_score(y_train, y_train_pred)\n",
        "r2_test = r2_score(y_test, y_test_pred)\n",
        "\n",
        "r2_train, r2_test\n",
        "\n"
      ]
    },
    {
      "cell_type": "markdown",
      "metadata": {
        "id": "7JYrHMlUSJmr"
      },
      "source": [
        "Посчитаем метрику качества предсказания $R^2$. Чем ближе она к 1, тем лучше качество модели.\n",
        "\n",
        "Посчитайте значение $R^2$ на тренировочных и на тестовых данных.\n",
        "\n",
        "**Вопрос:** чему равен $R^2$ на тесте?"
      ]
    },
    {
      "cell_type": "code",
      "execution_count": null,
      "metadata": {
        "id": "SfJqYav-q6eN",
        "colab": {
          "base_uri": "https://localhost:8080/"
        },
        "outputId": "f949f365-9b43-4d11-cb9f-0bd84ab8cd55"
      },
      "outputs": [
        {
          "output_type": "stream",
          "name": "stdout",
          "text": [
            "R2 на тренировочных данных: 0.7748676243434285\n",
            "R2 на тестовых данных: 0.6194680529163464\n"
          ]
        }
      ],
      "source": [
        "# ваш код здесь\n",
        "# Применяем указанные параметры TF-IDF\n",
        "tfidf = TfidfVectorizer(min_df=5, max_df=1.0, ngram_range=(1, 3)) # второй параметр отвечает за количество грамм сколько слов мы выбираем\n",
        "\n",
        "# Преобразуем описание вакансий\n",
        "X_train_tfidf = tfidf.fit_transform(X_train)\n",
        "X_test_tfidf = tfidf.transform(X_test)\n",
        "\n",
        "# Инициализация модели Ridge\n",
        "model = Ridge(alpha=1.1)\n",
        "\n",
        "# Обучение модели\n",
        "model.fit(X_train_tfidf, y_train)\n",
        "\n",
        "# Предсказания на обучающей выборке\n",
        "y_train_pred = model.predict(X_train_tfidf)\n",
        "\n",
        "# Предсказания на тестовой выборке\n",
        "y_test_pred = model.predict(X_test_tfidf)\n",
        "\n",
        "# Оценка качества модели на обучающей и тестовой выборках\n",
        "r2_train = r2_score(y_train, y_train_pred)\n",
        "r2_test = r2_score(y_test, y_test_pred)\n",
        "\n",
        "print(f\"R2 на тренировочных данных: {r2_train}\")\n",
        "print(f\"R2 на тестовых данных: {r2_test}\")\n"
      ]
    },
    {
      "cell_type": "markdown",
      "metadata": {
        "id": "fF_UnQY8SgaW"
      },
      "source": [
        "Потестируйте построенную модель. Посмотрите, как она прогнозирует зарплаты для разных вакансий"
      ]
    },
    {
      "cell_type": "code",
      "execution_count": null,
      "metadata": {
        "id": "aKFK0-jcq6eS",
        "colab": {
          "base_uri": "https://localhost:8080/"
        },
        "outputId": "785f055a-e801-4244-d612-ee398c55080c"
      },
      "outputs": [
        {
          "output_type": "execute_result",
          "data": {
            "text/plain": [
              "array([94.57997553])"
            ]
          },
          "metadata": {},
          "execution_count": 17
        }
      ],
      "source": [
        "model.predict(tfidf.transform([u\"director\"]))"
      ]
    },
    {
      "cell_type": "code",
      "execution_count": null,
      "metadata": {
        "id": "4FSKQlcfq6eV",
        "colab": {
          "base_uri": "https://localhost:8080/"
        },
        "outputId": "0a66b40b-ff95-420e-900d-9ba2c0ca8252"
      },
      "outputs": [
        {
          "output_type": "execute_result",
          "data": {
            "text/plain": [
              "array([84.6360381])"
            ]
          },
          "metadata": {},
          "execution_count": 18
        }
      ],
      "source": [
        "model.predict(tfidf.transform([u\"manager\"]))"
      ]
    },
    {
      "cell_type": "markdown",
      "metadata": {
        "id": "53i6MfuhSmwQ"
      },
      "source": [
        "**Вопрос:** посчитайте зарплату \"data scientist\" при помощи модели."
      ]
    },
    {
      "cell_type": "code",
      "execution_count": null,
      "metadata": {
        "id": "Hs_S0-byq6eY",
        "colab": {
          "base_uri": "https://localhost:8080/"
        },
        "outputId": "baabf392-c28c-4799-cccf-063a2ff8cfb4"
      },
      "outputs": [
        {
          "output_type": "execute_result",
          "data": {
            "text/plain": [
              "array([115.87933175])"
            ]
          },
          "metadata": {},
          "execution_count": 19
        }
      ],
      "source": [
        "# ваш код здесь\n",
        "model.predict(tfidf.transform([u\"data scientist\"]))"
      ]
    },
    {
      "cell_type": "markdown",
      "metadata": {
        "id": "xofYdviHTSZK"
      },
      "source": [
        "Посмотрим на веса модели\n",
        "\n",
        "**Вопрос:** какой признак имеет наибольший положительный вес?\n"
      ]
    },
    {
      "cell_type": "code",
      "source": [
        "%%time\n",
        "# Получаем имена признаков\n",
        "features = np.array(tfidf.get_feature_names_out())\n",
        "\n",
        "# Извлекаем коэффициенты модели для признаков, у которых вес не равен нулю\n",
        "coefs = sorted(zip(features[model.coef_ != 0], model.coef_[model.coef_ != 0]), key=lambda x: -x[1])\n",
        "\n",
        "# Преобразуем в DataFrame для удобства\n",
        "coefs_df = pd.DataFrame(coefs, columns=[\"ngram\", \"weight\"])\n",
        "\n",
        "# Посмотрим на первые несколько строк\n",
        "coefs_df.head()\n"
      ],
      "metadata": {
        "colab": {
          "base_uri": "https://localhost:8080/",
          "height": 241
        },
        "id": "PH6RV4kkospM",
        "outputId": "0674c140-3bd2-42f9-b181-caf6aeea96cd"
      },
      "execution_count": null,
      "outputs": [
        {
          "output_type": "stream",
          "name": "stdout",
          "text": [
            "CPU times: user 7.28 ms, sys: 13 µs, total: 7.29 ms\n",
            "Wall time: 7.2 ms\n"
          ]
        },
        {
          "output_type": "execute_result",
          "data": {
            "text/plain": [
              "        ngram     weight\n",
              "0   actuarial  37.252350\n",
              "1    platform  36.996826\n",
              "2      credit  35.336105\n",
              "3     climate  34.481568\n",
              "4  scientists  33.424038"
            ],
            "text/html": [
              "\n",
              "  <div id=\"df-8ae600bf-a84d-44e9-8d35-13f439330df9\" class=\"colab-df-container\">\n",
              "    <div>\n",
              "<style scoped>\n",
              "    .dataframe tbody tr th:only-of-type {\n",
              "        vertical-align: middle;\n",
              "    }\n",
              "\n",
              "    .dataframe tbody tr th {\n",
              "        vertical-align: top;\n",
              "    }\n",
              "\n",
              "    .dataframe thead th {\n",
              "        text-align: right;\n",
              "    }\n",
              "</style>\n",
              "<table border=\"1\" class=\"dataframe\">\n",
              "  <thead>\n",
              "    <tr style=\"text-align: right;\">\n",
              "      <th></th>\n",
              "      <th>ngram</th>\n",
              "      <th>weight</th>\n",
              "    </tr>\n",
              "  </thead>\n",
              "  <tbody>\n",
              "    <tr>\n",
              "      <th>0</th>\n",
              "      <td>actuarial</td>\n",
              "      <td>37.252350</td>\n",
              "    </tr>\n",
              "    <tr>\n",
              "      <th>1</th>\n",
              "      <td>platform</td>\n",
              "      <td>36.996826</td>\n",
              "    </tr>\n",
              "    <tr>\n",
              "      <th>2</th>\n",
              "      <td>credit</td>\n",
              "      <td>35.336105</td>\n",
              "    </tr>\n",
              "    <tr>\n",
              "      <th>3</th>\n",
              "      <td>climate</td>\n",
              "      <td>34.481568</td>\n",
              "    </tr>\n",
              "    <tr>\n",
              "      <th>4</th>\n",
              "      <td>scientists</td>\n",
              "      <td>33.424038</td>\n",
              "    </tr>\n",
              "  </tbody>\n",
              "</table>\n",
              "</div>\n",
              "    <div class=\"colab-df-buttons\">\n",
              "\n",
              "  <div class=\"colab-df-container\">\n",
              "    <button class=\"colab-df-convert\" onclick=\"convertToInteractive('df-8ae600bf-a84d-44e9-8d35-13f439330df9')\"\n",
              "            title=\"Convert this dataframe to an interactive table.\"\n",
              "            style=\"display:none;\">\n",
              "\n",
              "  <svg xmlns=\"http://www.w3.org/2000/svg\" height=\"24px\" viewBox=\"0 -960 960 960\">\n",
              "    <path d=\"M120-120v-720h720v720H120Zm60-500h600v-160H180v160Zm220 220h160v-160H400v160Zm0 220h160v-160H400v160ZM180-400h160v-160H180v160Zm440 0h160v-160H620v160ZM180-180h160v-160H180v160Zm440 0h160v-160H620v160Z\"/>\n",
              "  </svg>\n",
              "    </button>\n",
              "\n",
              "  <style>\n",
              "    .colab-df-container {\n",
              "      display:flex;\n",
              "      gap: 12px;\n",
              "    }\n",
              "\n",
              "    .colab-df-convert {\n",
              "      background-color: #E8F0FE;\n",
              "      border: none;\n",
              "      border-radius: 50%;\n",
              "      cursor: pointer;\n",
              "      display: none;\n",
              "      fill: #1967D2;\n",
              "      height: 32px;\n",
              "      padding: 0 0 0 0;\n",
              "      width: 32px;\n",
              "    }\n",
              "\n",
              "    .colab-df-convert:hover {\n",
              "      background-color: #E2EBFA;\n",
              "      box-shadow: 0px 1px 2px rgba(60, 64, 67, 0.3), 0px 1px 3px 1px rgba(60, 64, 67, 0.15);\n",
              "      fill: #174EA6;\n",
              "    }\n",
              "\n",
              "    .colab-df-buttons div {\n",
              "      margin-bottom: 4px;\n",
              "    }\n",
              "\n",
              "    [theme=dark] .colab-df-convert {\n",
              "      background-color: #3B4455;\n",
              "      fill: #D2E3FC;\n",
              "    }\n",
              "\n",
              "    [theme=dark] .colab-df-convert:hover {\n",
              "      background-color: #434B5C;\n",
              "      box-shadow: 0px 1px 3px 1px rgba(0, 0, 0, 0.15);\n",
              "      filter: drop-shadow(0px 1px 2px rgba(0, 0, 0, 0.3));\n",
              "      fill: #FFFFFF;\n",
              "    }\n",
              "  </style>\n",
              "\n",
              "    <script>\n",
              "      const buttonEl =\n",
              "        document.querySelector('#df-8ae600bf-a84d-44e9-8d35-13f439330df9 button.colab-df-convert');\n",
              "      buttonEl.style.display =\n",
              "        google.colab.kernel.accessAllowed ? 'block' : 'none';\n",
              "\n",
              "      async function convertToInteractive(key) {\n",
              "        const element = document.querySelector('#df-8ae600bf-a84d-44e9-8d35-13f439330df9');\n",
              "        const dataTable =\n",
              "          await google.colab.kernel.invokeFunction('convertToInteractive',\n",
              "                                                    [key], {});\n",
              "        if (!dataTable) return;\n",
              "\n",
              "        const docLinkHtml = 'Like what you see? Visit the ' +\n",
              "          '<a target=\"_blank\" href=https://colab.research.google.com/notebooks/data_table.ipynb>data table notebook</a>'\n",
              "          + ' to learn more about interactive tables.';\n",
              "        element.innerHTML = '';\n",
              "        dataTable['output_type'] = 'display_data';\n",
              "        await google.colab.output.renderOutput(dataTable, element);\n",
              "        const docLink = document.createElement('div');\n",
              "        docLink.innerHTML = docLinkHtml;\n",
              "        element.appendChild(docLink);\n",
              "      }\n",
              "    </script>\n",
              "  </div>\n",
              "\n",
              "\n",
              "<div id=\"df-ed9af5b6-9422-45fa-af3a-be30c9b1d392\">\n",
              "  <button class=\"colab-df-quickchart\" onclick=\"quickchart('df-ed9af5b6-9422-45fa-af3a-be30c9b1d392')\"\n",
              "            title=\"Suggest charts\"\n",
              "            style=\"display:none;\">\n",
              "\n",
              "<svg xmlns=\"http://www.w3.org/2000/svg\" height=\"24px\"viewBox=\"0 0 24 24\"\n",
              "     width=\"24px\">\n",
              "    <g>\n",
              "        <path d=\"M19 3H5c-1.1 0-2 .9-2 2v14c0 1.1.9 2 2 2h14c1.1 0 2-.9 2-2V5c0-1.1-.9-2-2-2zM9 17H7v-7h2v7zm4 0h-2V7h2v10zm4 0h-2v-4h2v4z\"/>\n",
              "    </g>\n",
              "</svg>\n",
              "  </button>\n",
              "\n",
              "<style>\n",
              "  .colab-df-quickchart {\n",
              "      --bg-color: #E8F0FE;\n",
              "      --fill-color: #1967D2;\n",
              "      --hover-bg-color: #E2EBFA;\n",
              "      --hover-fill-color: #174EA6;\n",
              "      --disabled-fill-color: #AAA;\n",
              "      --disabled-bg-color: #DDD;\n",
              "  }\n",
              "\n",
              "  [theme=dark] .colab-df-quickchart {\n",
              "      --bg-color: #3B4455;\n",
              "      --fill-color: #D2E3FC;\n",
              "      --hover-bg-color: #434B5C;\n",
              "      --hover-fill-color: #FFFFFF;\n",
              "      --disabled-bg-color: #3B4455;\n",
              "      --disabled-fill-color: #666;\n",
              "  }\n",
              "\n",
              "  .colab-df-quickchart {\n",
              "    background-color: var(--bg-color);\n",
              "    border: none;\n",
              "    border-radius: 50%;\n",
              "    cursor: pointer;\n",
              "    display: none;\n",
              "    fill: var(--fill-color);\n",
              "    height: 32px;\n",
              "    padding: 0;\n",
              "    width: 32px;\n",
              "  }\n",
              "\n",
              "  .colab-df-quickchart:hover {\n",
              "    background-color: var(--hover-bg-color);\n",
              "    box-shadow: 0 1px 2px rgba(60, 64, 67, 0.3), 0 1px 3px 1px rgba(60, 64, 67, 0.15);\n",
              "    fill: var(--button-hover-fill-color);\n",
              "  }\n",
              "\n",
              "  .colab-df-quickchart-complete:disabled,\n",
              "  .colab-df-quickchart-complete:disabled:hover {\n",
              "    background-color: var(--disabled-bg-color);\n",
              "    fill: var(--disabled-fill-color);\n",
              "    box-shadow: none;\n",
              "  }\n",
              "\n",
              "  .colab-df-spinner {\n",
              "    border: 2px solid var(--fill-color);\n",
              "    border-color: transparent;\n",
              "    border-bottom-color: var(--fill-color);\n",
              "    animation:\n",
              "      spin 1s steps(1) infinite;\n",
              "  }\n",
              "\n",
              "  @keyframes spin {\n",
              "    0% {\n",
              "      border-color: transparent;\n",
              "      border-bottom-color: var(--fill-color);\n",
              "      border-left-color: var(--fill-color);\n",
              "    }\n",
              "    20% {\n",
              "      border-color: transparent;\n",
              "      border-left-color: var(--fill-color);\n",
              "      border-top-color: var(--fill-color);\n",
              "    }\n",
              "    30% {\n",
              "      border-color: transparent;\n",
              "      border-left-color: var(--fill-color);\n",
              "      border-top-color: var(--fill-color);\n",
              "      border-right-color: var(--fill-color);\n",
              "    }\n",
              "    40% {\n",
              "      border-color: transparent;\n",
              "      border-right-color: var(--fill-color);\n",
              "      border-top-color: var(--fill-color);\n",
              "    }\n",
              "    60% {\n",
              "      border-color: transparent;\n",
              "      border-right-color: var(--fill-color);\n",
              "    }\n",
              "    80% {\n",
              "      border-color: transparent;\n",
              "      border-right-color: var(--fill-color);\n",
              "      border-bottom-color: var(--fill-color);\n",
              "    }\n",
              "    90% {\n",
              "      border-color: transparent;\n",
              "      border-bottom-color: var(--fill-color);\n",
              "    }\n",
              "  }\n",
              "</style>\n",
              "\n",
              "  <script>\n",
              "    async function quickchart(key) {\n",
              "      const quickchartButtonEl =\n",
              "        document.querySelector('#' + key + ' button');\n",
              "      quickchartButtonEl.disabled = true;  // To prevent multiple clicks.\n",
              "      quickchartButtonEl.classList.add('colab-df-spinner');\n",
              "      try {\n",
              "        const charts = await google.colab.kernel.invokeFunction(\n",
              "            'suggestCharts', [key], {});\n",
              "      } catch (error) {\n",
              "        console.error('Error during call to suggestCharts:', error);\n",
              "      }\n",
              "      quickchartButtonEl.classList.remove('colab-df-spinner');\n",
              "      quickchartButtonEl.classList.add('colab-df-quickchart-complete');\n",
              "    }\n",
              "    (() => {\n",
              "      let quickchartButtonEl =\n",
              "        document.querySelector('#df-ed9af5b6-9422-45fa-af3a-be30c9b1d392 button');\n",
              "      quickchartButtonEl.style.display =\n",
              "        google.colab.kernel.accessAllowed ? 'block' : 'none';\n",
              "    })();\n",
              "  </script>\n",
              "</div>\n",
              "    </div>\n",
              "  </div>\n"
            ],
            "application/vnd.google.colaboratory.intrinsic+json": {
              "type": "dataframe",
              "summary": "{\n  \"name\": \"get_ipython()\",\n  \"rows\": 5,\n  \"fields\": [\n    {\n      \"column\": \"ngram\",\n      \"properties\": {\n        \"dtype\": \"string\",\n        \"num_unique_values\": 5,\n        \"samples\": [\n          \"platform\",\n          \"scientists\",\n          \"credit\"\n        ],\n        \"semantic_type\": \"\",\n        \"description\": \"\"\n      }\n    },\n    {\n      \"column\": \"weight\",\n      \"properties\": {\n        \"dtype\": \"number\",\n        \"std\": 1.634387187619193,\n        \"min\": 33.42403753099278,\n        \"max\": 37.25234978079577,\n        \"num_unique_values\": 5,\n        \"samples\": [\n          36.996825548211945,\n          33.42403753099278,\n          35.336104740497476\n        ],\n        \"semantic_type\": \"\",\n        \"description\": \"\"\n      }\n    }\n  ]\n}"
            }
          },
          "metadata": {},
          "execution_count": 20
        }
      ]
    },
    {
      "cell_type": "code",
      "execution_count": null,
      "metadata": {
        "id": "NYI_RLZmq6eo",
        "colab": {
          "base_uri": "https://localhost:8080/",
          "height": 241
        },
        "outputId": "ad881001-21c5-488f-d8c0-b4aecc0fc50a"
      },
      "outputs": [
        {
          "output_type": "stream",
          "name": "stdout",
          "text": [
            "CPU times: user 10.9 ms, sys: 70 µs, total: 10.9 ms\n",
            "Wall time: 13.3 ms\n"
          ]
        },
        {
          "output_type": "execute_result",
          "data": {
            "text/plain": [
              "        ngram     weight\n",
              "0   actuarial  37.252350\n",
              "1    platform  36.996826\n",
              "2      credit  35.336105\n",
              "3     climate  34.481568\n",
              "4  scientists  33.424038"
            ],
            "text/html": [
              "\n",
              "  <div id=\"df-1f98cc84-945e-4847-a764-5313e6317b20\" class=\"colab-df-container\">\n",
              "    <div>\n",
              "<style scoped>\n",
              "    .dataframe tbody tr th:only-of-type {\n",
              "        vertical-align: middle;\n",
              "    }\n",
              "\n",
              "    .dataframe tbody tr th {\n",
              "        vertical-align: top;\n",
              "    }\n",
              "\n",
              "    .dataframe thead th {\n",
              "        text-align: right;\n",
              "    }\n",
              "</style>\n",
              "<table border=\"1\" class=\"dataframe\">\n",
              "  <thead>\n",
              "    <tr style=\"text-align: right;\">\n",
              "      <th></th>\n",
              "      <th>ngram</th>\n",
              "      <th>weight</th>\n",
              "    </tr>\n",
              "  </thead>\n",
              "  <tbody>\n",
              "    <tr>\n",
              "      <th>0</th>\n",
              "      <td>actuarial</td>\n",
              "      <td>37.252350</td>\n",
              "    </tr>\n",
              "    <tr>\n",
              "      <th>1</th>\n",
              "      <td>platform</td>\n",
              "      <td>36.996826</td>\n",
              "    </tr>\n",
              "    <tr>\n",
              "      <th>2</th>\n",
              "      <td>credit</td>\n",
              "      <td>35.336105</td>\n",
              "    </tr>\n",
              "    <tr>\n",
              "      <th>3</th>\n",
              "      <td>climate</td>\n",
              "      <td>34.481568</td>\n",
              "    </tr>\n",
              "    <tr>\n",
              "      <th>4</th>\n",
              "      <td>scientists</td>\n",
              "      <td>33.424038</td>\n",
              "    </tr>\n",
              "  </tbody>\n",
              "</table>\n",
              "</div>\n",
              "    <div class=\"colab-df-buttons\">\n",
              "\n",
              "  <div class=\"colab-df-container\">\n",
              "    <button class=\"colab-df-convert\" onclick=\"convertToInteractive('df-1f98cc84-945e-4847-a764-5313e6317b20')\"\n",
              "            title=\"Convert this dataframe to an interactive table.\"\n",
              "            style=\"display:none;\">\n",
              "\n",
              "  <svg xmlns=\"http://www.w3.org/2000/svg\" height=\"24px\" viewBox=\"0 -960 960 960\">\n",
              "    <path d=\"M120-120v-720h720v720H120Zm60-500h600v-160H180v160Zm220 220h160v-160H400v160Zm0 220h160v-160H400v160ZM180-400h160v-160H180v160Zm440 0h160v-160H620v160ZM180-180h160v-160H180v160Zm440 0h160v-160H620v160Z\"/>\n",
              "  </svg>\n",
              "    </button>\n",
              "\n",
              "  <style>\n",
              "    .colab-df-container {\n",
              "      display:flex;\n",
              "      gap: 12px;\n",
              "    }\n",
              "\n",
              "    .colab-df-convert {\n",
              "      background-color: #E8F0FE;\n",
              "      border: none;\n",
              "      border-radius: 50%;\n",
              "      cursor: pointer;\n",
              "      display: none;\n",
              "      fill: #1967D2;\n",
              "      height: 32px;\n",
              "      padding: 0 0 0 0;\n",
              "      width: 32px;\n",
              "    }\n",
              "\n",
              "    .colab-df-convert:hover {\n",
              "      background-color: #E2EBFA;\n",
              "      box-shadow: 0px 1px 2px rgba(60, 64, 67, 0.3), 0px 1px 3px 1px rgba(60, 64, 67, 0.15);\n",
              "      fill: #174EA6;\n",
              "    }\n",
              "\n",
              "    .colab-df-buttons div {\n",
              "      margin-bottom: 4px;\n",
              "    }\n",
              "\n",
              "    [theme=dark] .colab-df-convert {\n",
              "      background-color: #3B4455;\n",
              "      fill: #D2E3FC;\n",
              "    }\n",
              "\n",
              "    [theme=dark] .colab-df-convert:hover {\n",
              "      background-color: #434B5C;\n",
              "      box-shadow: 0px 1px 3px 1px rgba(0, 0, 0, 0.15);\n",
              "      filter: drop-shadow(0px 1px 2px rgba(0, 0, 0, 0.3));\n",
              "      fill: #FFFFFF;\n",
              "    }\n",
              "  </style>\n",
              "\n",
              "    <script>\n",
              "      const buttonEl =\n",
              "        document.querySelector('#df-1f98cc84-945e-4847-a764-5313e6317b20 button.colab-df-convert');\n",
              "      buttonEl.style.display =\n",
              "        google.colab.kernel.accessAllowed ? 'block' : 'none';\n",
              "\n",
              "      async function convertToInteractive(key) {\n",
              "        const element = document.querySelector('#df-1f98cc84-945e-4847-a764-5313e6317b20');\n",
              "        const dataTable =\n",
              "          await google.colab.kernel.invokeFunction('convertToInteractive',\n",
              "                                                    [key], {});\n",
              "        if (!dataTable) return;\n",
              "\n",
              "        const docLinkHtml = 'Like what you see? Visit the ' +\n",
              "          '<a target=\"_blank\" href=https://colab.research.google.com/notebooks/data_table.ipynb>data table notebook</a>'\n",
              "          + ' to learn more about interactive tables.';\n",
              "        element.innerHTML = '';\n",
              "        dataTable['output_type'] = 'display_data';\n",
              "        await google.colab.output.renderOutput(dataTable, element);\n",
              "        const docLink = document.createElement('div');\n",
              "        docLink.innerHTML = docLinkHtml;\n",
              "        element.appendChild(docLink);\n",
              "      }\n",
              "    </script>\n",
              "  </div>\n",
              "\n",
              "\n",
              "<div id=\"df-5adab1fd-5088-4984-b0ac-00b0586ae05b\">\n",
              "  <button class=\"colab-df-quickchart\" onclick=\"quickchart('df-5adab1fd-5088-4984-b0ac-00b0586ae05b')\"\n",
              "            title=\"Suggest charts\"\n",
              "            style=\"display:none;\">\n",
              "\n",
              "<svg xmlns=\"http://www.w3.org/2000/svg\" height=\"24px\"viewBox=\"0 0 24 24\"\n",
              "     width=\"24px\">\n",
              "    <g>\n",
              "        <path d=\"M19 3H5c-1.1 0-2 .9-2 2v14c0 1.1.9 2 2 2h14c1.1 0 2-.9 2-2V5c0-1.1-.9-2-2-2zM9 17H7v-7h2v7zm4 0h-2V7h2v10zm4 0h-2v-4h2v4z\"/>\n",
              "    </g>\n",
              "</svg>\n",
              "  </button>\n",
              "\n",
              "<style>\n",
              "  .colab-df-quickchart {\n",
              "      --bg-color: #E8F0FE;\n",
              "      --fill-color: #1967D2;\n",
              "      --hover-bg-color: #E2EBFA;\n",
              "      --hover-fill-color: #174EA6;\n",
              "      --disabled-fill-color: #AAA;\n",
              "      --disabled-bg-color: #DDD;\n",
              "  }\n",
              "\n",
              "  [theme=dark] .colab-df-quickchart {\n",
              "      --bg-color: #3B4455;\n",
              "      --fill-color: #D2E3FC;\n",
              "      --hover-bg-color: #434B5C;\n",
              "      --hover-fill-color: #FFFFFF;\n",
              "      --disabled-bg-color: #3B4455;\n",
              "      --disabled-fill-color: #666;\n",
              "  }\n",
              "\n",
              "  .colab-df-quickchart {\n",
              "    background-color: var(--bg-color);\n",
              "    border: none;\n",
              "    border-radius: 50%;\n",
              "    cursor: pointer;\n",
              "    display: none;\n",
              "    fill: var(--fill-color);\n",
              "    height: 32px;\n",
              "    padding: 0;\n",
              "    width: 32px;\n",
              "  }\n",
              "\n",
              "  .colab-df-quickchart:hover {\n",
              "    background-color: var(--hover-bg-color);\n",
              "    box-shadow: 0 1px 2px rgba(60, 64, 67, 0.3), 0 1px 3px 1px rgba(60, 64, 67, 0.15);\n",
              "    fill: var(--button-hover-fill-color);\n",
              "  }\n",
              "\n",
              "  .colab-df-quickchart-complete:disabled,\n",
              "  .colab-df-quickchart-complete:disabled:hover {\n",
              "    background-color: var(--disabled-bg-color);\n",
              "    fill: var(--disabled-fill-color);\n",
              "    box-shadow: none;\n",
              "  }\n",
              "\n",
              "  .colab-df-spinner {\n",
              "    border: 2px solid var(--fill-color);\n",
              "    border-color: transparent;\n",
              "    border-bottom-color: var(--fill-color);\n",
              "    animation:\n",
              "      spin 1s steps(1) infinite;\n",
              "  }\n",
              "\n",
              "  @keyframes spin {\n",
              "    0% {\n",
              "      border-color: transparent;\n",
              "      border-bottom-color: var(--fill-color);\n",
              "      border-left-color: var(--fill-color);\n",
              "    }\n",
              "    20% {\n",
              "      border-color: transparent;\n",
              "      border-left-color: var(--fill-color);\n",
              "      border-top-color: var(--fill-color);\n",
              "    }\n",
              "    30% {\n",
              "      border-color: transparent;\n",
              "      border-left-color: var(--fill-color);\n",
              "      border-top-color: var(--fill-color);\n",
              "      border-right-color: var(--fill-color);\n",
              "    }\n",
              "    40% {\n",
              "      border-color: transparent;\n",
              "      border-right-color: var(--fill-color);\n",
              "      border-top-color: var(--fill-color);\n",
              "    }\n",
              "    60% {\n",
              "      border-color: transparent;\n",
              "      border-right-color: var(--fill-color);\n",
              "    }\n",
              "    80% {\n",
              "      border-color: transparent;\n",
              "      border-right-color: var(--fill-color);\n",
              "      border-bottom-color: var(--fill-color);\n",
              "    }\n",
              "    90% {\n",
              "      border-color: transparent;\n",
              "      border-bottom-color: var(--fill-color);\n",
              "    }\n",
              "  }\n",
              "</style>\n",
              "\n",
              "  <script>\n",
              "    async function quickchart(key) {\n",
              "      const quickchartButtonEl =\n",
              "        document.querySelector('#' + key + ' button');\n",
              "      quickchartButtonEl.disabled = true;  // To prevent multiple clicks.\n",
              "      quickchartButtonEl.classList.add('colab-df-spinner');\n",
              "      try {\n",
              "        const charts = await google.colab.kernel.invokeFunction(\n",
              "            'suggestCharts', [key], {});\n",
              "      } catch (error) {\n",
              "        console.error('Error during call to suggestCharts:', error);\n",
              "      }\n",
              "      quickchartButtonEl.classList.remove('colab-df-spinner');\n",
              "      quickchartButtonEl.classList.add('colab-df-quickchart-complete');\n",
              "    }\n",
              "    (() => {\n",
              "      let quickchartButtonEl =\n",
              "        document.querySelector('#df-5adab1fd-5088-4984-b0ac-00b0586ae05b button');\n",
              "      quickchartButtonEl.style.display =\n",
              "        google.colab.kernel.accessAllowed ? 'block' : 'none';\n",
              "    })();\n",
              "  </script>\n",
              "</div>\n",
              "    </div>\n",
              "  </div>\n"
            ],
            "application/vnd.google.colaboratory.intrinsic+json": {
              "type": "dataframe",
              "summary": "{\n  \"name\": \"get_ipython()\",\n  \"rows\": 5,\n  \"fields\": [\n    {\n      \"column\": \"ngram\",\n      \"properties\": {\n        \"dtype\": \"string\",\n        \"num_unique_values\": 5,\n        \"samples\": [\n          \"platform\",\n          \"scientists\",\n          \"credit\"\n        ],\n        \"semantic_type\": \"\",\n        \"description\": \"\"\n      }\n    },\n    {\n      \"column\": \"weight\",\n      \"properties\": {\n        \"dtype\": \"number\",\n        \"std\": 1.634387187619193,\n        \"min\": 33.42403753099278,\n        \"max\": 37.25234978079577,\n        \"num_unique_values\": 5,\n        \"samples\": [\n          36.996825548211945,\n          33.42403753099278,\n          35.336104740497476\n        ],\n        \"semantic_type\": \"\",\n        \"description\": \"\"\n      }\n    }\n  ]\n}"
            }
          },
          "metadata": {},
          "execution_count": 21
        }
      ],
      "source": [
        "%%time\n",
        "coefs = sorted(zip(list(np.array(tfidf.get_feature_names_out())[model.coef_ != 0]), model.coef_[model.coef_ != 0]),\n",
        "               key=lambda x: -x[1])\n",
        "coefs = pd.DataFrame(coefs, columns=[\"ngram\", \"weight\"])\n",
        "\n",
        "coefs_df.head()"
      ]
    },
    {
      "cell_type": "markdown",
      "metadata": {
        "id": "JaJycU3wdp2c"
      },
      "source": [
        "Закодируйте столбец `Job Description` при помощи мешка слов.\n",
        "\n",
        "Постройте модель линейной регрессии `Ridge()` на тренировочных данных и сделайте предсказания на тренировочных и тестовых данных, если столбец\n",
        "**model = Ridge(alpha=1.1)**\n",
        "\n",
        "Рассчитайте метрику качества предсказания $R^2$ на тренировочных и на тестовых данных.\n",
        "\n",
        "Потестируйте построенную модель. Посмотрите, как она прогнозирует зарплаты для разных вакансий. Сделайте прогноз зарплаты для \"data scientist\" при помощи построенной модели.\n",
        "\n",
        "\n",
        "**Вопрос:** Как изменилось качество модели? чему равен $R^2$ на тесте? какой признак имеет наибольший положительный вес?"
      ]
    },
    {
      "cell_type": "code",
      "source": [
        "import pandas as pd\n",
        "import numpy as np\n",
        "from sklearn.feature_extraction.text import CountVectorizer\n",
        "from sklearn.linear_model import Ridge\n",
        "from sklearn.metrics import r2_score\n",
        "from sklearn.model_selection import train_test_split\n",
        "\n",
        "# Загрузка данных (если еще не загружены)\n",
        "# df = pd.read_csv('salary_data.csv', index_col=0)\n",
        "\n",
        "# Разделение данных\n",
        "X = df['Job Description']\n",
        "y = df['avg_salary']\n",
        "X_train, X_test, y_train, y_test = train_test_split(X, y, test_size=0.2, random_state=42)\n",
        "\n",
        "# Кодирование с помощью Bag of Words\n",
        "vectorizer = CountVectorizer()\n",
        "X_train_bow = vectorizer.fit_transform(X_train)\n",
        "X_test_bow = vectorizer.transform(X_test)\n",
        "\n",
        "# Обучение модели Ridge\n",
        "model = Ridge(alpha=1.1)\n",
        "model.fit(X_train_bow, y_train)\n",
        "\n",
        "# Предсказания\n",
        "y_train_pred = model.predict(X_train_bow)\n",
        "y_test_pred = model.predict(X_test_bow)\n",
        "\n",
        "# Оценка качества\n",
        "r2_train = r2_score(y_train, y_train_pred)\n",
        "r2_test = r2_score(y_test, y_test_pred)\n",
        "\n",
        "print(f\"R2 на тренировочных данных: {r2_train}\")\n",
        "print(f\"R2 на тестовых данных: {r2_test}\")\n",
        "\n",
        "# Предсказание для вакансии \"data scientist\"\n",
        "data_scientist_description = [\"We are looking for a data scientist with experience in machine learning and data analysis.\"]\n",
        "data_scientist_bow = vectorizer.transform(data_scientist_description)\n",
        "predicted_salary = model.predict(data_scientist_bow)\n",
        "\n",
        "print(f\"Предсказанная зарплата для 'data scientist': {predicted_salary[0]}\")\n",
        "\n",
        "# Посмотрим на веса модели\n",
        "coefs = sorted(zip(vectorizer.get_feature_names_out(), model.coef_), key=lambda x: -x[1])\n",
        "coefs_df = pd.DataFrame(coefs, columns=[\"ngram\", \"weight\"])\n",
        "\n",
        "# Наибольший положительный вес\n",
        "max_weight_feature = coefs_df.iloc[0]\n",
        "print(f\"Признак с наибольшим положительным весом: {max_weight_feature['ngram']} с весом {max_weight_feature['weight']}\")\n"
      ],
      "metadata": {
        "colab": {
          "base_uri": "https://localhost:8080/"
        },
        "id": "DP95VMqpsjSR",
        "outputId": "de844912-f852-47b9-fce0-2479ef89fc39"
      },
      "execution_count": null,
      "outputs": [
        {
          "output_type": "stream",
          "name": "stdout",
          "text": [
            "R2 на тренировочных данных: 0.99891425921253\n",
            "R2 на тестовых данных: 0.6844198430554591\n",
            "Предсказанная зарплата для 'data scientist': 92.7429408630597\n",
            "Признак с наибольшим положительным весом: senior с весом 14.51052204765902\n"
          ]
        }
      ]
    },
    {
      "cell_type": "code",
      "execution_count": null,
      "metadata": {
        "id": "_BzjGWY9dp2c",
        "colab": {
          "base_uri": "https://localhost:8080/"
        },
        "outputId": "730005c6-4ba9-407d-e1d4-73ec7fbfcb23"
      },
      "outputs": [
        {
          "output_type": "stream",
          "name": "stdout",
          "text": [
            "R2 на тренировочных данных: 0.99891425921253\n",
            "R2 на тестовых данных: 0.6844198430554591\n",
            "Признак с наибольшим положительным весом: senior с весом 14.51052204765902\n"
          ]
        }
      ],
      "source": [
        "\n",
        "# Оценка качества\n",
        "r2_train = r2_score(y_train, y_train_pred)\n",
        "r2_test = r2_score(y_test, y_test_pred)\n",
        "\n",
        "print(f\"R2 на тренировочных данных: {r2_train}\")\n",
        "print(f\"R2 на тестовых данных: {r2_test}\")\n",
        "\n",
        "# Наибольший положительный вес\n",
        "max_weight_feature = coefs_df.iloc[0]\n",
        "print(f\"Признак с наибольшим положительным весом: {max_weight_feature['ngram']} с весом {max_weight_feature['weight']}\")\n"
      ]
    },
    {
      "cell_type": "markdown",
      "source": [
        "Коэффициент детерминации для модели на тренировочных данных увеличился с 0,775 до 0,999, для тестовых данных - с 0,619 до 0,684. Эти положительные изменения указывают на то, что прогноз с помощью мешка слов более предпочтительнее."
      ],
      "metadata": {
        "id": "dZQi3VniscSQ"
      }
    }
  ],
  "metadata": {
    "colab": {
      "provenance": []
    },
    "kernelspec": {
      "display_name": "Python 3 (ipykernel)",
      "language": "python",
      "name": "python3"
    },
    "language_info": {
      "codemirror_mode": {
        "name": "ipython",
        "version": 3
      },
      "file_extension": ".py",
      "mimetype": "text/x-python",
      "name": "python",
      "nbconvert_exporter": "python",
      "pygments_lexer": "ipython3",
      "version": "3.11.4"
    },
    "toc": {
      "base_numbering": 1,
      "nav_menu": {},
      "number_sections": true,
      "sideBar": true,
      "skip_h1_title": true,
      "title_cell": "Table of Contents",
      "title_sidebar": "Contents",
      "toc_cell": true,
      "toc_position": {},
      "toc_section_display": true,
      "toc_window_display": false
    }
  },
  "nbformat": 4,
  "nbformat_minor": 0
}